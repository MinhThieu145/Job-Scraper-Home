{
 "cells": [
  {
   "cell_type": "code",
   "execution_count": 1,
   "metadata": {},
   "outputs": [],
   "source": [
    "import pandas as pd\n",
    "import time\n",
    "import urllib\n",
    "from math import ceil\n",
    "import pickle\n",
    "\n",
    "# import selenium\n",
    "from selenium import webdriver\n",
    "from selenium.webdriver.common.keys import Keys\n",
    "from selenium.webdriver.chrome.options import Options\n",
    "from selenium.webdriver.common.by import By\n",
    "from selenium.webdriver.support.ui import WebDriverWait\n",
    "from selenium.webdriver.support import expected_conditions as EC\n",
    "from webdriver_manager.chrome import ChromeDriverManager\n",
    "from selenium.webdriver.common.action_chains import ActionChains\n",
    "\n",
    "# ignore warning\n",
    "import warnings\n",
    "warnings.filterwarnings(\"ignore\")"
   ]
  },
  {
   "cell_type": "code",
   "execution_count": null,
   "metadata": {},
   "outputs": [],
   "source": [
    "job_titles = [\n",
    "    # Analyzing Data\n",
    "    \"data scientist intern\",\n",
    "    \"data intern\",\n",
    "    \"business analyst intern\",\n",
    "    \"data engineer intern\",\n",
    "    \"quantitative analyst intern\",\n",
    "    \"data analyst intern\",\n",
    "    \n",
    "    # Working with Cloud and Building Cloud Architect\n",
    "    \"cloud architect intern\",\n",
    "    \"cloud solutions intern\",\n",
    "    \"cloud infrastructure architect intern\",\n",
    "    \"cloud systems architect intern\",\n",
    "    \"cloud engineer intern\",\n",
    "        \n",
    "    # DevOps\n",
    "    \"devops engineer intern\",\n",
    "    \"devops specialist intern\",\n",
    "    \"devops architect intern\",\n",
    "]"
   ]
  },
  {
   "cell_type": "code",
   "execution_count": 2,
   "metadata": {},
   "outputs": [],
   "source": [
    "def SetupChrome():\n",
    "    # set up chrome options\n",
    "    global driver\n",
    "    chrome_options = Options()\n",
    "\n",
    "    # headless\n",
    "    # chrome_options.add_argument(\"--headless=new\")    \n",
    "    chrome_options.add_argument(\"--no-sandbox\")\n",
    "    chrome_options.add_argument(\"--disable-notifications\")\n",
    "    # set up driver\n",
    "    driver = webdriver.Chrome(ChromeDriverManager().install(), options=chrome_options)\n",
    "\n",
    "    # go to linkedin\n",
    "    driver.get('https://www.indeed.com/?from=gnav-jobsearch--indeedmobile')\n",
    "    return     "
   ]
  },
  {
   "cell_type": "code",
   "execution_count": 3,
   "metadata": {},
   "outputs": [],
   "source": [
    "SetupChrome()"
   ]
  },
  {
   "cell_type": "code",
   "execution_count": 10,
   "metadata": {},
   "outputs": [
    {
     "name": "stdout",
     "output_type": "stream",
     "text": [
      "0\n"
     ]
    }
   ],
   "source": [
    "job_tab = driver.find_elements(By.XPATH, '//ul[@class=\"jobsearch-ResultsList css-0\"]/li//tbody//td[@class=\"resultContent\"]')\n",
    "print(len(job_tab))"
   ]
  },
  {
   "cell_type": "code",
   "execution_count": 8,
   "metadata": {},
   "outputs": [
    {
     "ename": "NoSuchElementException",
     "evalue": "Message: no such element: Unable to locate element: {\"method\":\"xpath\",\"selector\":\"//div[@class=\"jobsearch-embeddedBody css-1omm75o eu4oa1w0\"]\"}\n  (Session info: chrome=113.0.5672.92)\nStacktrace:\n#0 0x5565856f1133 <unknown>\n#1 0x556585425966 <unknown>\n#2 0x5565854620dc <unknown>\n#3 0x556585462211 <unknown>\n#4 0x55658549c6c4 <unknown>\n#5 0x556585481bfd <unknown>\n#6 0x55658549a1c7 <unknown>\n#7 0x5565854819a3 <unknown>\n#8 0x55658545646a <unknown>\n#9 0x55658545755e <unknown>\n#10 0x5565856b0cae <unknown>\n#11 0x5565856b48fe <unknown>\n#12 0x5565856bdf20 <unknown>\n#13 0x5565856b5923 <unknown>\n#14 0x556585688c0e <unknown>\n#15 0x5565856d8b08 <unknown>\n#16 0x5565856d8c97 <unknown>\n#17 0x5565856e9113 <unknown>\n#18 0x7f7d5e28f18a <unknown>\n",
     "output_type": "error",
     "traceback": [
      "\u001b[0;31m---------------------------------------------------------------------------\u001b[0m",
      "\u001b[0;31mNoSuchElementException\u001b[0m                    Traceback (most recent call last)",
      "Cell \u001b[0;32mIn[8], line 1\u001b[0m\n\u001b[0;32m----> 1\u001b[0m job_description \u001b[39m=\u001b[39m driver\u001b[39m.\u001b[39;49mfind_element(By\u001b[39m.\u001b[39;49mXPATH, \u001b[39m'\u001b[39;49m\u001b[39m//div[@class=\u001b[39;49m\u001b[39m\"\u001b[39;49m\u001b[39mjobsearch-embeddedBody css-1omm75o eu4oa1w0\u001b[39;49m\u001b[39m\"\u001b[39;49m\u001b[39m]\u001b[39;49m\u001b[39m'\u001b[39;49m)\n\u001b[1;32m      2\u001b[0m \u001b[39mprint\u001b[39m(job_description\u001b[39m.\u001b[39mtext)\n",
      "File \u001b[0;32m~/anaconda3/envs/DataAnalyst/lib/python3.10/site-packages/selenium/webdriver/remote/webdriver.py:831\u001b[0m, in \u001b[0;36mWebDriver.find_element\u001b[0;34m(self, by, value)\u001b[0m\n\u001b[1;32m    828\u001b[0m     by \u001b[39m=\u001b[39m By\u001b[39m.\u001b[39mCSS_SELECTOR\n\u001b[1;32m    829\u001b[0m     value \u001b[39m=\u001b[39m \u001b[39mf\u001b[39m\u001b[39m'\u001b[39m\u001b[39m[name=\u001b[39m\u001b[39m\"\u001b[39m\u001b[39m{\u001b[39;00mvalue\u001b[39m}\u001b[39;00m\u001b[39m\"\u001b[39m\u001b[39m]\u001b[39m\u001b[39m'\u001b[39m\n\u001b[0;32m--> 831\u001b[0m \u001b[39mreturn\u001b[39;00m \u001b[39mself\u001b[39;49m\u001b[39m.\u001b[39;49mexecute(Command\u001b[39m.\u001b[39;49mFIND_ELEMENT, {\u001b[39m\"\u001b[39;49m\u001b[39musing\u001b[39;49m\u001b[39m\"\u001b[39;49m: by, \u001b[39m\"\u001b[39;49m\u001b[39mvalue\u001b[39;49m\u001b[39m\"\u001b[39;49m: value})[\u001b[39m\"\u001b[39m\u001b[39mvalue\u001b[39m\u001b[39m\"\u001b[39m]\n",
      "File \u001b[0;32m~/anaconda3/envs/DataAnalyst/lib/python3.10/site-packages/selenium/webdriver/remote/webdriver.py:440\u001b[0m, in \u001b[0;36mWebDriver.execute\u001b[0;34m(self, driver_command, params)\u001b[0m\n\u001b[1;32m    438\u001b[0m response \u001b[39m=\u001b[39m \u001b[39mself\u001b[39m\u001b[39m.\u001b[39mcommand_executor\u001b[39m.\u001b[39mexecute(driver_command, params)\n\u001b[1;32m    439\u001b[0m \u001b[39mif\u001b[39;00m response:\n\u001b[0;32m--> 440\u001b[0m     \u001b[39mself\u001b[39;49m\u001b[39m.\u001b[39;49merror_handler\u001b[39m.\u001b[39;49mcheck_response(response)\n\u001b[1;32m    441\u001b[0m     response[\u001b[39m\"\u001b[39m\u001b[39mvalue\u001b[39m\u001b[39m\"\u001b[39m] \u001b[39m=\u001b[39m \u001b[39mself\u001b[39m\u001b[39m.\u001b[39m_unwrap_value(response\u001b[39m.\u001b[39mget(\u001b[39m\"\u001b[39m\u001b[39mvalue\u001b[39m\u001b[39m\"\u001b[39m, \u001b[39mNone\u001b[39;00m))\n\u001b[1;32m    442\u001b[0m     \u001b[39mreturn\u001b[39;00m response\n",
      "File \u001b[0;32m~/anaconda3/envs/DataAnalyst/lib/python3.10/site-packages/selenium/webdriver/remote/errorhandler.py:245\u001b[0m, in \u001b[0;36mErrorHandler.check_response\u001b[0;34m(self, response)\u001b[0m\n\u001b[1;32m    243\u001b[0m         alert_text \u001b[39m=\u001b[39m value[\u001b[39m\"\u001b[39m\u001b[39malert\u001b[39m\u001b[39m\"\u001b[39m]\u001b[39m.\u001b[39mget(\u001b[39m\"\u001b[39m\u001b[39mtext\u001b[39m\u001b[39m\"\u001b[39m)\n\u001b[1;32m    244\u001b[0m     \u001b[39mraise\u001b[39;00m exception_class(message, screen, stacktrace, alert_text)  \u001b[39m# type: ignore[call-arg]  # mypy is not smart enough here\u001b[39;00m\n\u001b[0;32m--> 245\u001b[0m \u001b[39mraise\u001b[39;00m exception_class(message, screen, stacktrace)\n",
      "\u001b[0;31mNoSuchElementException\u001b[0m: Message: no such element: Unable to locate element: {\"method\":\"xpath\",\"selector\":\"//div[@class=\"jobsearch-embeddedBody css-1omm75o eu4oa1w0\"]\"}\n  (Session info: chrome=113.0.5672.92)\nStacktrace:\n#0 0x5565856f1133 <unknown>\n#1 0x556585425966 <unknown>\n#2 0x5565854620dc <unknown>\n#3 0x556585462211 <unknown>\n#4 0x55658549c6c4 <unknown>\n#5 0x556585481bfd <unknown>\n#6 0x55658549a1c7 <unknown>\n#7 0x5565854819a3 <unknown>\n#8 0x55658545646a <unknown>\n#9 0x55658545755e <unknown>\n#10 0x5565856b0cae <unknown>\n#11 0x5565856b48fe <unknown>\n#12 0x5565856bdf20 <unknown>\n#13 0x5565856b5923 <unknown>\n#14 0x556585688c0e <unknown>\n#15 0x5565856d8b08 <unknown>\n#16 0x5565856d8c97 <unknown>\n#17 0x5565856e9113 <unknown>\n#18 0x7f7d5e28f18a <unknown>\n"
     ]
    }
   ],
   "source": [
    "job_description = driver.find_element(By.XPATH, '//div[@class=\"jobsearch-embeddedBody css-1omm75o eu4oa1w0\"]')\n",
    "print(job_description.text)"
   ]
  },
  {
   "cell_type": "code",
   "execution_count": null,
   "metadata": {},
   "outputs": [
    {
     "name": "stdout",
     "output_type": "stream",
     "text": [
      "data intern\n",
      "data%20intern\n",
      "https://www.indeed.com/jobs?q=data%20intern&l=US&\n"
     ]
    }
   ],
   "source": [
    "# job titles\n",
    "for title in job_titles[1:2]:\n",
    "    job_titles = [\n",
    "        # Analyzing Data\n",
    "        \"data scientist intern\",\n",
    "        \"data intern\",\n",
    "        \"business analyst intern\",\n",
    "        \"data engineer intern\",\n",
    "        \"quantitative analyst intern\",\n",
    "        \"data analyst intern\",\n",
    "        \n",
    "        # Working with Cloud and Building Cloud Architect\n",
    "        \"cloud architect intern\",\n",
    "        \"cloud solutions intern\",\n",
    "        \"cloud infrastructure architect intern\",\n",
    "        \"cloud systems architect intern\",\n",
    "        \"cloud engineer intern\",\n",
    "            \n",
    "        # DevOps\n",
    "        \"devops engineer intern\",\n",
    "        \"devops specialist intern\",\n",
    "        \"devops architect intern\",\n",
    "    ]\n",
    "\n",
    "    print(title)\n",
    "    encoded_title = urllib.parse.quote(title)\n",
    "    print(encoded_title)\n",
    "\n",
    "    main_url = f'https://www.indeed.com/jobs?q={encoded_title}&l=US&'\n",
    "    print(main_url)\n"
   ]
  },
  {
   "cell_type": "code",
   "execution_count": 9,
   "metadata": {},
   "outputs": [],
   "source": [
    "for job in job_tab:\n",
    "\n",
    "\n",
    "\n",
    "\n",
    "    SetupChrome()\n",
    "    # click job\n",
    "    job.click()\n",
    "\n",
    "    # wait for job description to load\n",
    "    time.sleep(1)\n",
    "\n",
    "    # title\n",
    "    job_tilte = job.find_element(By.XPATH, './/h2').text\n",
    "    print('title', job_tilte)\n",
    "\n",
    "    # company name\n",
    "    company_name = job.find_element(By.XPATH, './/div[@class=\"heading6 company_location tapItem-gutter companyInfo\"]/span[@class=\"companyName\"]')\n",
    "    print('company', company_name.text)\n",
    "\n",
    "    # job link by getting the current url\n",
    "    job_link = job.find_element(By.XPATH, './/h2/a').get_attribute('href')\n",
    "    print('link', job_link)\n",
    "\n",
    "    # job description\n",
    "    job_description = driver.find_element(By.XPATH, '//div[@class=\"jobsearch-embeddedBody css-1omm75o eu4oa1w0\"]')\n",
    "    print('description', job_description.text)\n",
    "\n",
    "    \n",
    "\n",
    "    # divider\n",
    "    print(\"--------------------------------------------------\")"
   ]
  },
  {
   "cell_type": "code",
   "execution_count": null,
   "metadata": {},
   "outputs": [],
   "source": [
    "    SetupChrome()\n",
    "    # click job\n",
    "    job.click()\n",
    "\n",
    "    # wait for job description to load\n",
    "    time.sleep(1)\n",
    "\n",
    "    # title\n",
    "    job_tilte = job.find_element(By.XPATH, './/h2').text\n",
    "    print('title', job_tilte)\n",
    "\n",
    "    # company name\n",
    "    company_name = job.find_element(By.XPATH, './/div[@class=\"heading6 company_location tapItem-gutter companyInfo\"]/span[@class=\"companyName\"]')\n",
    "    print('company', company_name.text)\n",
    "\n",
    "    # job link by getting the current url\n",
    "    job_link = job.find_element(By.XPATH, './/h2/a').get_attribute('href')\n",
    "    print('link', job_link)\n",
    "\n",
    "    # job description\n",
    "    job_description = driver.find_element(By.XPATH, '//div[@class=\"jobsearch-embeddedBody css-1omm75o eu4oa1w0\"]')\n",
    "    print('description', job_description.text)\n",
    "\n",
    "    \n",
    "\n",
    "    # divider\n",
    "    print(\"--------------------------------------------------\")"
   ]
  },
  {
   "cell_type": "code",
   "execution_count": null,
   "metadata": {},
   "outputs": [],
   "source": [
    "driver.quit()"
   ]
  },
  {
   "cell_type": "code",
   "execution_count": 49,
   "metadata": {},
   "outputs": [
    {
     "name": "stdout",
     "output_type": "stream",
     "text": [
      "6296\n"
     ]
    }
   ],
   "source": [
    "current_height = driver.execute_script(\"return document.body.scrollHeight\")\n",
    "print(current_height)\n",
    "new_height = current_height + 0.01\n",
    "\n",
    "# Scroll to the new height\n",
    "driver.execute_script(\"window.scrollTo(0, arguments[0]);\", new_height)\n"
   ]
  },
  {
   "cell_type": "code",
   "execution_count": null,
   "metadata": {},
   "outputs": [],
   "source": []
  }
 ],
 "metadata": {
  "kernelspec": {
   "display_name": "DataAnalyst",
   "language": "python",
   "name": "python3"
  },
  "language_info": {
   "codemirror_mode": {
    "name": "ipython",
    "version": 3
   },
   "file_extension": ".py",
   "mimetype": "text/x-python",
   "name": "python",
   "nbconvert_exporter": "python",
   "pygments_lexer": "ipython3",
   "version": "3.10.11"
  },
  "orig_nbformat": 4
 },
 "nbformat": 4,
 "nbformat_minor": 2
}
